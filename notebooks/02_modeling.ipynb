{
 "cells": [
  {
   "cell_type": "markdown",
   "metadata": {},
   "source": [
    "Modeling and Evaluation Notebook: \n",
    "Modeling pipeline setup\n",
    "Logistic Regression baseline (from paper)\n",
    "Additional models (e.g., DecisionTree, XGBoost)\n",
    "Evaluation (Precision, Recall, F1)\n",
    "Debiasing method + fairness metrics\n",
    "Reflection and interpretation"
   ]
  }
 ],
 "metadata": {
  "language_info": {
   "name": "python"
  }
 },
 "nbformat": 4,
 "nbformat_minor": 2
}
